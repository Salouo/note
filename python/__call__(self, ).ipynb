{
 "cells": [
  {
   "cell_type": "markdown",
   "id": "03316067-0772-46c2-bb81-8acdbd17e6c5",
   "metadata": {},
   "source": [
    "We can use `def __call__(self, )` to enable a class be called like a function."
   ]
  },
  {
   "cell_type": "code",
   "execution_count": 25,
   "id": "9aac1cb6-eb52-4993-ae6e-884dd12d9415",
   "metadata": {},
   "outputs": [
    {
     "name": "stdout",
     "output_type": "stream",
     "text": [
      "20\n"
     ]
    }
   ],
   "source": [
    "class MyClass:\n",
    "    def __init__(self, x):\n",
    "        self.x = x\n",
    "    def __call__(self):\n",
    "        return self.x + 10\n",
    "\n",
    "\n",
    "# Instantiate this class\n",
    "a = MyClass(10)\n",
    "# Use it like a function\n",
    "print(a())"
   ]
  }
 ],
 "metadata": {
  "kernelspec": {
   "display_name": "Python (python39)",
   "language": "python",
   "name": "python39"
  },
  "language_info": {
   "codemirror_mode": {
    "name": "ipython",
    "version": 3
   },
   "file_extension": ".py",
   "mimetype": "text/x-python",
   "name": "python",
   "nbconvert_exporter": "python",
   "pygments_lexer": "ipython3",
   "version": "3.9.20"
  }
 },
 "nbformat": 4,
 "nbformat_minor": 5
}
