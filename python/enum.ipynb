{
 "cells": [
  {
   "cell_type": "markdown",
   "id": "1d8a6dd4",
   "metadata": {},
   "source": [
    "# `Enum` Library"
   ]
  },
  {
   "cell_type": "markdown",
   "id": "63614510",
   "metadata": {},
   "source": [
    "Here is a `Light` class. It includes red (0) light and blue (1) light. So we can use a bool type to represent the color of a light. But what should we do if there are 3 types of color of a light?"
   ]
  },
  {
   "cell_type": "code",
   "execution_count": null,
   "id": "4728f7fd",
   "metadata": {},
   "outputs": [
    {
     "data": {
      "text/plain": [
       "True"
      ]
     },
     "execution_count": 3,
     "metadata": {},
     "output_type": "execute_result"
    }
   ],
   "source": [
    "class Light:\n",
    "    def __init__(self, color: bool):\n",
    "        self.color = color\n",
    "\n",
    "light1 = Light(True)\n",
    "light.color\n"
   ]
  },
  {
   "cell_type": "markdown",
   "id": "06b10647",
   "metadata": {},
   "source": [
    "A simple idea is to use `int`."
   ]
  },
  {
   "cell_type": "code",
   "execution_count": 7,
   "id": "89de57f4",
   "metadata": {},
   "outputs": [
    {
     "name": "stdout",
     "output_type": "stream",
     "text": [
      "2\n",
      "888\n"
     ]
    }
   ],
   "source": [
    "class Light:\n",
    "    def __init__(self, color: int):\n",
    "        self.color = color\n",
    "\n",
    "light1 = Light(1)\n",
    "light2 = Light(2)\n",
    "light3 = Light(3)\n",
    "\n",
    "print(light2.color)\n",
    "\n",
    "# This is meaningless! But it can instantiate sucessfully.\n",
    "light4 = Light(888)\n",
    "print(light4.color)"
   ]
  },
  {
   "cell_type": "markdown",
   "id": "7bc13dd8",
   "metadata": {},
   "source": [
    "Here is the situation where we should use `Enum` library."
   ]
  },
  {
   "cell_type": "code",
   "execution_count": 2,
   "id": "7ff090af",
   "metadata": {},
   "outputs": [
    {
     "data": {
      "text/plain": [
       "<Color.RED: 1>"
      ]
     },
     "execution_count": 2,
     "metadata": {},
     "output_type": "execute_result"
    }
   ],
   "source": [
    "from enum import Enum\n",
    "\n",
    "class Color(Enum):\n",
    "    RED = 1\n",
    "    GREEN = 2\n",
    "    BLUE = 3\n",
    "\n",
    "class Light:\n",
    "    def __init__(self, color: Color):\n",
    "        self.color = color\n",
    "\n",
    "light1 = Light(Color.RED)\n",
    "light1.color"
   ]
  }
 ],
 "metadata": {
  "kernelspec": {
   "display_name": "ai-agent-py310",
   "language": "python",
   "name": "python3"
  },
  "language_info": {
   "codemirror_mode": {
    "name": "ipython",
    "version": 3
   },
   "file_extension": ".py",
   "mimetype": "text/x-python",
   "name": "python",
   "nbconvert_exporter": "python",
   "pygments_lexer": "ipython3",
   "version": "3.10.18"
  }
 },
 "nbformat": 4,
 "nbformat_minor": 5
}
