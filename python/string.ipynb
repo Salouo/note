{
 "cells": [
  {
   "cell_type": "markdown",
   "id": "b449adbe",
   "metadata": {},
   "source": [
    "## 1. str.strip()"
   ]
  },
  {
   "cell_type": "markdown",
   "id": "f6d5b4d3",
   "metadata": {},
   "source": [
    "`string.strip()` removes any **leading** and **trailing** whitespace characters from a string.\n",
    " These include spaces (' '), tabs ('\\t'), and newline characters ('\\n')."
   ]
  },
  {
   "cell_type": "code",
   "execution_count": 2,
   "id": "33989683",
   "metadata": {},
   "outputs": [
    {
     "name": "stdout",
     "output_type": "stream",
     "text": [
      "hello world  \\d\n",
      "hello##a#a\n"
     ]
    }
   ],
   "source": [
    "s = 'hello world  \\d'\n",
    "print(s.strip())\n",
    "\n",
    "s = '##hello##a#a'\n",
    "print(s.strip('#'))"
   ]
  },
  {
   "cell_type": "markdown",
   "id": "c53da017",
   "metadata": {},
   "source": [
    "## 2. str.split()"
   ]
  },
  {
   "cell_type": "markdown",
   "id": "d96e23c5",
   "metadata": {},
   "source": [
    "`string.split()` splits a string into a **list** wherever a specific character appears."
   ]
  },
  {
   "cell_type": "code",
   "execution_count": 3,
   "id": "8c3dd6e7",
   "metadata": {},
   "outputs": [
    {
     "name": "stdout",
     "output_type": "stream",
     "text": [
      "['apple', 'banana', 'orange']\n"
     ]
    }
   ],
   "source": [
    "s = \"apple,banana,orange\"\n",
    "result = s.split(',')\n",
    "print(result)"
   ]
  }
 ],
 "metadata": {
  "kernelspec": {
   "display_name": "considerate-robot",
   "language": "python",
   "name": "python3"
  },
  "language_info": {
   "codemirror_mode": {
    "name": "ipython",
    "version": 3
   },
   "file_extension": ".py",
   "mimetype": "text/x-python",
   "name": "python",
   "nbconvert_exporter": "python",
   "pygments_lexer": "ipython3",
   "version": "3.9.21"
  }
 },
 "nbformat": 4,
 "nbformat_minor": 5
}
