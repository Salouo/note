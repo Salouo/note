{
 "cells": [
  {
   "cell_type": "markdown",
   "id": "4f630b88",
   "metadata": {},
   "source": [
    "## super\\(\\).<class.method> Function"
   ]
  },
  {
   "cell_type": "markdown",
   "id": "6e1a6095",
   "metadata": {},
   "source": [
    "In inheritance cases:\n",
    "\n",
    "\n",
    "- Not writing `super()` simply means that when we override a method (especially `__init__`), the base class's method with the same name won't run automatically.\n",
    "\n",
    "- Methods in the basse class that we didn't override remain available and are still inherited.\n",
    "\n",
    "- If we override `__init__` and don't call `super().__init__()`, the base initialization won't run, so the attributes it would create won't exist. When we call other base-class methods later, they may fail due to missing attributes.\n",
    "\n",
    "- If we don't override `__init__` (not define `__init__` method in the subclass again), the base class's `__init__` runs automatically. Even if we don't write `super()`.\n",
    "\n"
   ]
  },
  {
   "cell_type": "code",
   "execution_count": 7,
   "id": "9cba15e8",
   "metadata": {},
   "outputs": [
    {
     "name": "stdout",
     "output_type": "stream",
     "text": [
      "Base\n",
      "B\n",
      "A\n",
      "C\n",
      "============\n",
      "Base\n",
      "B\n",
      "============\n",
      "I override the subclass's `__init__` method and not call `super()`.\n"
     ]
    }
   ],
   "source": [
    "class Base:\n",
    "    def __init__(self):\n",
    "        print(\"Base\")\n",
    "\n",
    "class A(Base):\n",
    "    def __init__(self):\n",
    "        super().__init__()\n",
    "        print(\"A\")\n",
    "\n",
    "class B(Base):\n",
    "    def __init__(self):\n",
    "        super().__init__()\n",
    "        print(\"B\")\n",
    "\n",
    "class C(A, B):\n",
    "    def __init__(self):\n",
    "        super().__init__()\n",
    "        print(\"C\")\n",
    "\n",
    "class D(B):\n",
    "    pass\n",
    "\n",
    "class F(A, B):\n",
    "    def __init__(self):\n",
    "        print(\"I override the subclass's `__init__` method and not call `super()`.\")\n",
    "\n",
    "test_c = C()\n",
    "print(\"============\")\n",
    "test_d = D()\n",
    "print(\"============\")\n",
    "test_f = F()"
   ]
  }
 ],
 "metadata": {
  "kernelspec": {
   "display_name": "agent-py310",
   "language": "python",
   "name": "python3"
  },
  "language_info": {
   "codemirror_mode": {
    "name": "ipython",
    "version": 3
   },
   "file_extension": ".py",
   "mimetype": "text/x-python",
   "name": "python",
   "nbconvert_exporter": "python",
   "pygments_lexer": "ipython3",
   "version": "3.10.18"
  }
 },
 "nbformat": 4,
 "nbformat_minor": 5
}
